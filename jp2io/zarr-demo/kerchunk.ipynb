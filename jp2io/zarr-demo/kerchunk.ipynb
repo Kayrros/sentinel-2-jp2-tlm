{
 "cells": [
  {
   "cell_type": "markdown",
   "id": "2bcf07e6-43a1-4c54-9454-35bd0ec7339f",
   "metadata": {},
   "source": [
    "### This notebook is inspired by https://github.com/EOPF-Sample-Service/eopf-sample-webinar2/"
   ]
  },
  {
   "cell_type": "code",
   "execution_count": null,
   "id": "89d654a6-3bc1-4da5-bbfa-476c24914061",
   "metadata": {},
   "outputs": [],
   "source": [
    "import datetime\n",
    "import os\n",
    "\n",
    "import numpy as np\n",
    "import xarray as xr"
   ]
  },
  {
   "cell_type": "code",
   "execution_count": null,
   "id": "0907d4ae-c1d4-4b86-a058-773853446a20",
   "metadata": {},
   "outputs": [],
   "source": [
    "from dask.distributed import Client\n",
    "\n",
    "client = Client(processes=False)\n",
    "client"
   ]
  },
  {
   "cell_type": "code",
   "execution_count": null,
   "id": "ad261fe2-95c8-4fc6-bb6a-e8797a10131f",
   "metadata": {},
   "outputs": [],
   "source": [
    "import jp2io.zarr.codec  # register the codec"
   ]
  },
  {
   "cell_type": "code",
   "execution_count": null,
   "id": "e0cdcb65-7110-41da-b133-f2a929f868b9",
   "metadata": {},
   "outputs": [],
   "source": [
    "cdse_storage_options = dict(\n",
    "    remote_protocol=\"s3\",\n",
    "    remote_options=dict(\n",
    "        key=os.environ[\"CDSE_ACCESS_KEY_ID\"],\n",
    "        secret=os.environ[\"CDSE_SECRET_ACCESS_KEY\"],\n",
    "        endpoint_url=\"https://eodata.dataspace.copernicus.eu\",\n",
    "    ),\n",
    ")"
   ]
  },
  {
   "cell_type": "code",
   "execution_count": null,
   "id": "5c725467-9b54-4f2a-af65-0ee12e950457",
   "metadata": {
    "scrolled": true
   },
   "outputs": [],
   "source": [
    "ds = xr.open_dataset(\"./L2A-32UPC.kerchunk\", engine=\"kerchunk\", backend_kwargs={\"storage_options\": cdse_storage_options}, chunks=\"auto\")\n",
    "ds = ds.astype(np.float32)\n",
    "ds"
   ]
  },
  {
   "cell_type": "code",
   "execution_count": null,
   "id": "f2c706d2-8ff7-4b9c-8911-a0cdf4abbf8c",
   "metadata": {
    "scrolled": true
   },
   "outputs": [],
   "source": [
    "ndvi = (ds.B08 - ds.B04) / (ds.B08 + ds.B04)\n",
    "ndvi"
   ]
  },
  {
   "cell_type": "code",
   "execution_count": null,
   "id": "9d68e206-1638-457f-b3e6-8e7a90229922",
   "metadata": {},
   "outputs": [],
   "source": [
    "img = ndvi.sel(time=datetime.datetime(2018, 7, 11), method=\"nearest\")\n",
    "img[:300, :300].plot()"
   ]
  },
  {
   "cell_type": "code",
   "execution_count": null,
   "id": "c6603ae9-4a98-44de-855e-0c3302e027b7",
   "metadata": {},
   "outputs": [],
   "source": [
    "x_slice = slice(1000, 1500)\n",
    "y_slice = slice(5000, 5500)\n",
    "yearly_da = (\n",
    "    ndvi.sel(x=x_slice, y=y_slice)\n",
    "    [::10] # one image every 50 days\n",
    "    .groupby(\"time.year\")\n",
    "    .median(dim=\"time\", skipna=True)\n",
    ")\n",
    "yearly_da"
   ]
  },
  {
   "cell_type": "code",
   "execution_count": null,
   "id": "1d8208fd-8edd-4646-bdcf-1d1cbedbd4f0",
   "metadata": {},
   "outputs": [],
   "source": [
    "yearly_da.sel(year=2020).plot.imshow(vmin=-0.1, vmax=0.5)"
   ]
  }
 ],
 "metadata": {
  "kernelspec": {
   "display_name": "Python 3 (ipykernel)",
   "language": "python",
   "name": "python3"
  },
  "language_info": {
   "codemirror_mode": {
    "name": "ipython",
    "version": 3
   },
   "file_extension": ".py",
   "mimetype": "text/x-python",
   "name": "python",
   "nbconvert_exporter": "python",
   "pygments_lexer": "ipython3",
   "version": "3.13.1"
  }
 },
 "nbformat": 4,
 "nbformat_minor": 5
}
